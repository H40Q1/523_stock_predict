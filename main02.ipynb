{
  "nbformat": 4,
  "nbformat_minor": 0,
  "metadata": {
    "kernelspec": {
      "display_name": "Python 3",
      "language": "python",
      "name": "python3"
    },
    "language_info": {
      "codemirror_mode": {
        "name": "ipython",
        "version": 3
      },
      "file_extension": ".py",
      "mimetype": "text/x-python",
      "name": "python",
      "nbconvert_exporter": "python",
      "pygments_lexer": "ipython3",
      "version": "3.7.7"
    },
    "colab": {
      "name": "EC523_Project.ipynb",
      "provenance": [],
      "collapsed_sections": [],
      "include_colab_link": true
    },
    "accelerator": "GPU"
  },
  "cells": [
    {
      "cell_type": "markdown",
      "metadata": {
        "id": "view-in-github",
        "colab_type": "text"
      },
      "source": [
        "<a href=\"https://colab.research.google.com/github/H40Q1/523_stock_predict/blob/main/EC523_Project.ipynb\" target=\"_parent\"><img src=\"https://colab.research.google.com/assets/colab-badge.svg\" alt=\"Open In Colab\"/></a>"
      ]
    },
    {
      "cell_type": "markdown",
      "metadata": {
        "id": "MSAg4PjDsJaS"
      },
      "source": [
        "# EC523 Project : Stock Price Prediction"
      ]
    },
    {
      "cell_type": "markdown",
      "metadata": {
        "id": "butkueOFsJaT"
      },
      "source": [
        "## 0. Import libraries"
      ]
    },
    {
      "cell_type": "code",
      "metadata": {
        "id": "5tuFB1A5sJaU"
      },
      "source": [
        "# !pip3 install pytorch-nlp\n",
        "import pandas as pd\n",
        "import numpy as np\n",
        "import os\n",
        "import sys\n",
        "import time\n",
        "import math\n",
        "import matplotlib.pyplot as plt\n",
        "from sklearn.model_selection import train_test_split\n",
        "import torch\n",
        "import torch.nn as nn\n",
        "from torch.nn import Module\n",
        "import torch.nn.functional as F\n",
        "import torch.optim as optim\n",
        "from torch.utils.data import DataLoader, TensorDataset\n",
        "\n",
        "# import torchnlp.nn as nlpnn"
      ],
      "execution_count": 21,
      "outputs": []
    },
    {
      "cell_type": "markdown",
      "metadata": {
        "id": "d688qnEysJaa"
      },
      "source": [
        "##  1. Data Preprocess"
      ]
    },
    {
      "cell_type": "markdown",
      "metadata": {
        "id": "Fj2dwSNcsJab"
      },
      "source": [
        "First of all, let's read the data set file and take a look of it."
      ]
    },
    {
      "cell_type": "code",
      "metadata": {
        "id": "hMpXklsusJac"
      },
      "source": [
        "path = \"/content/stock_data.csv\"\n",
        "stock_dataset =  pd.read_csv(path, header=0)"
      ],
      "execution_count": 2,
      "outputs": []
    },
    {
      "cell_type": "markdown",
      "metadata": {
        "id": "LF_hzLu4sJae"
      },
      "source": [
        "Let's take a look of first 5 rows of data set."
      ]
    },
    {
      "cell_type": "code",
      "metadata": {
        "id": "i4YoZ4ZIsJaf",
        "colab": {
          "base_uri": "https://localhost:8080/",
          "height": 204
        },
        "outputId": "0e344c67-927a-4002-d3f4-284d5a5690b3"
      },
      "source": [
        "stock_dataset.head()"
      ],
      "execution_count": 3,
      "outputs": [
        {
          "output_type": "execute_result",
          "data": {
            "text/html": [
              "<div>\n",
              "<style scoped>\n",
              "    .dataframe tbody tr th:only-of-type {\n",
              "        vertical-align: middle;\n",
              "    }\n",
              "\n",
              "    .dataframe tbody tr th {\n",
              "        vertical-align: top;\n",
              "    }\n",
              "\n",
              "    .dataframe thead th {\n",
              "        text-align: right;\n",
              "    }\n",
              "</style>\n",
              "<table border=\"1\" class=\"dataframe\">\n",
              "  <thead>\n",
              "    <tr style=\"text-align: right;\">\n",
              "      <th></th>\n",
              "      <th>index_code</th>\n",
              "      <th>date</th>\n",
              "      <th>open</th>\n",
              "      <th>close</th>\n",
              "      <th>low</th>\n",
              "      <th>high</th>\n",
              "      <th>volume</th>\n",
              "      <th>money</th>\n",
              "      <th>change</th>\n",
              "    </tr>\n",
              "  </thead>\n",
              "  <tbody>\n",
              "    <tr>\n",
              "      <th>0</th>\n",
              "      <td>sh000001</td>\n",
              "      <td>1990/12/20</td>\n",
              "      <td>104.30</td>\n",
              "      <td>104.39</td>\n",
              "      <td>99.98</td>\n",
              "      <td>104.39</td>\n",
              "      <td>197000.0</td>\n",
              "      <td>85000.0</td>\n",
              "      <td>0.044109</td>\n",
              "    </tr>\n",
              "    <tr>\n",
              "      <th>1</th>\n",
              "      <td>sh000001</td>\n",
              "      <td>1990/12/21</td>\n",
              "      <td>109.07</td>\n",
              "      <td>109.13</td>\n",
              "      <td>103.73</td>\n",
              "      <td>109.13</td>\n",
              "      <td>28000.0</td>\n",
              "      <td>16100.0</td>\n",
              "      <td>0.045407</td>\n",
              "    </tr>\n",
              "    <tr>\n",
              "      <th>2</th>\n",
              "      <td>sh000001</td>\n",
              "      <td>1990/12/24</td>\n",
              "      <td>113.57</td>\n",
              "      <td>114.55</td>\n",
              "      <td>109.13</td>\n",
              "      <td>114.55</td>\n",
              "      <td>32000.0</td>\n",
              "      <td>31100.0</td>\n",
              "      <td>0.049666</td>\n",
              "    </tr>\n",
              "    <tr>\n",
              "      <th>3</th>\n",
              "      <td>sh000001</td>\n",
              "      <td>1990/12/25</td>\n",
              "      <td>120.09</td>\n",
              "      <td>120.25</td>\n",
              "      <td>114.55</td>\n",
              "      <td>120.25</td>\n",
              "      <td>15000.0</td>\n",
              "      <td>6500.0</td>\n",
              "      <td>0.049760</td>\n",
              "    </tr>\n",
              "    <tr>\n",
              "      <th>4</th>\n",
              "      <td>sh000001</td>\n",
              "      <td>1990/12/26</td>\n",
              "      <td>125.27</td>\n",
              "      <td>125.27</td>\n",
              "      <td>120.25</td>\n",
              "      <td>125.27</td>\n",
              "      <td>100000.0</td>\n",
              "      <td>53700.0</td>\n",
              "      <td>0.041746</td>\n",
              "    </tr>\n",
              "  </tbody>\n",
              "</table>\n",
              "</div>"
            ],
            "text/plain": [
              "  index_code        date    open   close  ...    high    volume    money    change\n",
              "0   sh000001  1990/12/20  104.30  104.39  ...  104.39  197000.0  85000.0  0.044109\n",
              "1   sh000001  1990/12/21  109.07  109.13  ...  109.13   28000.0  16100.0  0.045407\n",
              "2   sh000001  1990/12/24  113.57  114.55  ...  114.55   32000.0  31100.0  0.049666\n",
              "3   sh000001  1990/12/25  120.09  120.25  ...  120.25   15000.0   6500.0  0.049760\n",
              "4   sh000001  1990/12/26  125.27  125.27  ...  125.27  100000.0  53700.0  0.041746\n",
              "\n",
              "[5 rows x 9 columns]"
            ]
          },
          "metadata": {
            "tags": []
          },
          "execution_count": 3
        }
      ]
    },
    {
      "cell_type": "code",
      "metadata": {
        "scrolled": true,
        "id": "H_zNfvJisJai",
        "colab": {
          "base_uri": "https://localhost:8080/",
          "height": 297
        },
        "outputId": "c7e3f723-7c90-41d1-b864-5ec376990f30"
      },
      "source": [
        "stock_dataset.describe()"
      ],
      "execution_count": 4,
      "outputs": [
        {
          "output_type": "execute_result",
          "data": {
            "text/html": [
              "<div>\n",
              "<style scoped>\n",
              "    .dataframe tbody tr th:only-of-type {\n",
              "        vertical-align: middle;\n",
              "    }\n",
              "\n",
              "    .dataframe tbody tr th {\n",
              "        vertical-align: top;\n",
              "    }\n",
              "\n",
              "    .dataframe thead th {\n",
              "        text-align: right;\n",
              "    }\n",
              "</style>\n",
              "<table border=\"1\" class=\"dataframe\">\n",
              "  <thead>\n",
              "    <tr style=\"text-align: right;\">\n",
              "      <th></th>\n",
              "      <th>open</th>\n",
              "      <th>close</th>\n",
              "      <th>low</th>\n",
              "      <th>high</th>\n",
              "      <th>volume</th>\n",
              "      <th>money</th>\n",
              "      <th>change</th>\n",
              "    </tr>\n",
              "  </thead>\n",
              "  <tbody>\n",
              "    <tr>\n",
              "      <th>count</th>\n",
              "      <td>6109.000000</td>\n",
              "      <td>6109.000000</td>\n",
              "      <td>6109.000000</td>\n",
              "      <td>6109.000000</td>\n",
              "      <td>6.109000e+03</td>\n",
              "      <td>6.109000e+03</td>\n",
              "      <td>6109.000000</td>\n",
              "    </tr>\n",
              "    <tr>\n",
              "      <th>mean</th>\n",
              "      <td>1774.168370</td>\n",
              "      <td>1775.191989</td>\n",
              "      <td>1753.858407</td>\n",
              "      <td>1792.686525</td>\n",
              "      <td>2.258868e+10</td>\n",
              "      <td>6.013645e+10</td>\n",
              "      <td>0.000882</td>\n",
              "    </tr>\n",
              "    <tr>\n",
              "      <th>std</th>\n",
              "      <td>1047.920798</td>\n",
              "      <td>1049.208658</td>\n",
              "      <td>1033.753364</td>\n",
              "      <td>1060.291179</td>\n",
              "      <td>3.635068e+10</td>\n",
              "      <td>1.253975e+11</td>\n",
              "      <td>0.026197</td>\n",
              "    </tr>\n",
              "    <tr>\n",
              "      <th>min</th>\n",
              "      <td>104.300000</td>\n",
              "      <td>104.390000</td>\n",
              "      <td>99.980000</td>\n",
              "      <td>104.390000</td>\n",
              "      <td>1.500000e+04</td>\n",
              "      <td>6.500000e+03</td>\n",
              "      <td>-0.163937</td>\n",
              "    </tr>\n",
              "    <tr>\n",
              "      <th>25%</th>\n",
              "      <td>1100.690000</td>\n",
              "      <td>1101.490000</td>\n",
              "      <td>1087.850000</td>\n",
              "      <td>1112.100000</td>\n",
              "      <td>3.634716e+09</td>\n",
              "      <td>3.157918e+09</td>\n",
              "      <td>-0.007923</td>\n",
              "    </tr>\n",
              "    <tr>\n",
              "      <th>50%</th>\n",
              "      <td>1570.650000</td>\n",
              "      <td>1570.700000</td>\n",
              "      <td>1556.530000</td>\n",
              "      <td>1583.760000</td>\n",
              "      <td>8.551797e+09</td>\n",
              "      <td>9.848770e+09</td>\n",
              "      <td>0.000701</td>\n",
              "    </tr>\n",
              "    <tr>\n",
              "      <th>75%</th>\n",
              "      <td>2293.810000</td>\n",
              "      <td>2295.950000</td>\n",
              "      <td>2278.160000</td>\n",
              "      <td>2312.560000</td>\n",
              "      <td>1.970836e+10</td>\n",
              "      <td>7.762494e+10</td>\n",
              "      <td>0.009374</td>\n",
              "    </tr>\n",
              "    <tr>\n",
              "      <th>max</th>\n",
              "      <td>6057.430000</td>\n",
              "      <td>6092.060000</td>\n",
              "      <td>6040.710000</td>\n",
              "      <td>6124.040000</td>\n",
              "      <td>2.760000e+11</td>\n",
              "      <td>1.310000e+12</td>\n",
              "      <td>1.052691</td>\n",
              "    </tr>\n",
              "  </tbody>\n",
              "</table>\n",
              "</div>"
            ],
            "text/plain": [
              "              open        close  ...         money       change\n",
              "count  6109.000000  6109.000000  ...  6.109000e+03  6109.000000\n",
              "mean   1774.168370  1775.191989  ...  6.013645e+10     0.000882\n",
              "std    1047.920798  1049.208658  ...  1.253975e+11     0.026197\n",
              "min     104.300000   104.390000  ...  6.500000e+03    -0.163937\n",
              "25%    1100.690000  1101.490000  ...  3.157918e+09    -0.007923\n",
              "50%    1570.650000  1570.700000  ...  9.848770e+09     0.000701\n",
              "75%    2293.810000  2295.950000  ...  7.762494e+10     0.009374\n",
              "max    6057.430000  6092.060000  ...  1.310000e+12     1.052691\n",
              "\n",
              "[8 rows x 7 columns]"
            ]
          },
          "metadata": {
            "tags": []
          },
          "execution_count": 4
        }
      ]
    },
    {
      "cell_type": "markdown",
      "metadata": {
        "id": "xrDyjlQBsJal"
      },
      "source": [
        "What is the exact length of each column?"
      ]
    },
    {
      "cell_type": "code",
      "metadata": {
        "id": "Sc6RcGLLsJam",
        "colab": {
          "base_uri": "https://localhost:8080/"
        },
        "outputId": "16e3111a-9a6a-449f-e43e-78f7286e403a"
      },
      "source": [
        "open_price = stock_dataset.open.values.astype('float32')\n",
        "open_price = open_price.reshape(-1, 1)\n",
        "print(open_price.shape[0])"
      ],
      "execution_count": 5,
      "outputs": [
        {
          "output_type": "stream",
          "text": [
            "6109\n"
          ],
          "name": "stdout"
        }
      ]
    },
    {
      "cell_type": "code",
      "metadata": {
        "scrolled": true,
        "id": "QFJkFXV7sJap",
        "colab": {
          "base_uri": "https://localhost:8080/",
          "height": 279
        },
        "outputId": "f9d179b2-cd39-4fdb-cd78-f933bc1548a3"
      },
      "source": [
        "plt.plot(open_price)\n",
        "plt.ylabel(\"Open prices\")\n",
        "plt.xlabel(\"Days\")\n",
        "plt.show()"
      ],
      "execution_count": 6,
      "outputs": [
        {
          "output_type": "display_data",
          "data": {
            "image/png": "[encoded data removed]",
            "text/plain": [
              "<Figure size 432x288 with 1 Axes>"
            ]
          },
          "metadata": {
            "tags": [],
            "needs_background": "light"
          }
        }
      ]
    },
    {
      "cell_type": "markdown",
      "metadata": {
        "id": "pkEPmmhbsJas"
      },
      "source": [
        "Here is the class of parameters of this project:"
      ]
    },
    {
      "cell_type": "code",
      "metadata": {
        "id": "4bAeyrllsJas"
      },
      "source": [
        "class Config:\n",
        "    \n",
        "    feature_columns = list(range(2, 9))     # feature columns' indecies \n",
        "    label_columns = [2,3]                # predicted feature columns' indecies\n",
        "    label_in_feature_index = (lambda x,y: [x.index(i) for i in y])(feature_columns, label_columns)  \n",
        "    \n",
        "    predict_day = 1             # predited length (days)\n",
        "    \n",
        "    input_size = len(feature_columns)\n",
        "    output_size = len(label_columns)\n",
        "\n",
        "    hidden_size = 128           # hiddent size\n",
        "    lstm_layers = 2             # stacked layer number\n",
        "    dropout_rate = 0.2          # dropout\n",
        "    time_step = 20              # step size (day)\n",
        "    epoch = 50\n",
        "    \n",
        "#     do_train = True\n",
        "#     do_predict = True\n",
        "#     shuffle_train_data = True           \n",
        "\n",
        "    train_data_rate = 0.7      \n",
        "    valid_data_rate = 0.15   \n",
        "    test_data_rate = 0.15\n",
        "\n",
        "    batch_size = 64\n",
        "    learning_rate = 0.0001\n",
        "\n",
        "    use_cuda = True\n",
        "    # path\n",
        "    used_frame = \"pytorch\"\n",
        "    model_name = \"model_\" + \".pth\"\n",
        "    train_data_path = \"/content/stock_data.csv\"\n",
        "    model_save_path = \"./checkpoint/\" + used_frame + \"/\"\n",
        "    \n",
        "\n",
        "    # save \n",
        "    if not os.path.exists(model_save_path):\n",
        "        os.makedirs(model_save_path)    \n"
      ],
      "execution_count": 7,
      "outputs": []
    },
    {
      "cell_type": "markdown",
      "metadata": {
        "id": "aRw0N6ZssJav"
      },
      "source": [
        "Class of dataset process and split."
      ]
    },
    {
      "cell_type": "code",
      "metadata": {
        "id": "RUcciTT1sJav"
      },
      "source": [
        "class Data:\n",
        "    def __init__(self, config):\n",
        "        self.config = config\n",
        "        self.data, self.data_column_name = self.read_data()\n",
        "        self.data = np.array(self.data, dtype=np.float64)\n",
        "        self.data_num = self.data.shape[0]\n",
        "        ### interval of dataset\n",
        "        # x_train [0:s]\n",
        "        # y_train [d:s+d]\n",
        "        # x_valid [s:v]\n",
        "        # y_valid [s+d:v+d]\n",
        "        # x_test [v:-d]\n",
        "        # y_test [v+d:-1]\n",
        "\n",
        "        self.train_num = int(self.data_num * self.config.train_data_rate)   #  self.train_num = s\n",
        "        \n",
        "        self.valid_num = int(self.train_num + self.data_num * self.config.valid_data_rate)  # self.valid_num = v\n",
        "        \n",
        "        self.mean = np.mean(self.data, axis=0)              # mean and std\n",
        "        self.std = np.std(self.data, axis=0)\n",
        "        self.norm_data = (self.data - self.mean)/self.std   # normalization\n",
        "\n",
        "\n",
        "    def read_data(self):                # read data\n",
        "        init_data = pd.read_csv(self.config.train_data_path, usecols=self.config.feature_columns)\n",
        "        \n",
        "        \n",
        "        return init_data.values, init_data.columns.tolist()     \n",
        "\n",
        "    \n",
        "    def get_train_data(self):\n",
        "        feature_data = self.norm_data[:self.train_num]  # interval [0:s]  \n",
        "        \n",
        "        # interval [d:s+d]  \n",
        "        label_data = self.norm_data[self.config.predict_day : self.config.predict_day + self.train_num,\n",
        "                                    self.config.label_in_feature_index]    \n",
        "\n",
        "        train_x = [feature_data[i:i+self.config.time_step] for i in range(self.train_num-self.config.time_step)]\n",
        "        train_y = [label_data[i:i+self.config.time_step] for i in range(self.train_num-self.config.time_step)]\n",
        "        \n",
        "\n",
        "        train_x, train_y = np.array(train_x), np.array(train_y)\n",
        "\n",
        "        return train_x, train_y\n",
        "    \n",
        "    def get_valid_data(self):\n",
        "        \n",
        "        feature_data = self.norm_data[self.train_num : self.valid_num]  \n",
        "        # interval [s:v]  \n",
        "        \n",
        "        # interval [s+d:v+d]  \n",
        "        label_data = self.norm_data[self.config.predict_day + self.train_num : self.config.predict_day + self.valid_num,\n",
        "                                    self.config.label_in_feature_index]    # create label\n",
        "        \n",
        "        \n",
        "        valid_x = [feature_data[i:i+self.config.time_step] for i in range(self.valid_num-self.train_num-self.config.time_step)]\n",
        "        valid_y = [label_data[i:i+self.config.time_step] for i in range(self.valid_num-self.train_num-self.config.time_step)]\n",
        "\n",
        "   \n",
        "        valid_x, valid_y = np.array(valid_x), np.array(valid_y)\n",
        "\n",
        "        return valid_x, valid_y\n",
        "\n",
        "\n",
        "    def get_test_data(self):\n",
        "        \n",
        "        feature_data = self.norm_data[self.valid_num :]  \n",
        "        # feature interval[v:-d]\n",
        "        \n",
        "        test_x = [feature_data[i:i+self.config.time_step] for i in range(self.data_num - self.valid_num - self.config.time_step-1)]\n",
        "\n",
        "        test_x = np.array(test_x)\n",
        "        \n",
        "        return test_x\n",
        "    \n",
        "    \n",
        "    def return_label(self, dataset):\n",
        "        \n",
        "        if dataset ==\"train\":\n",
        "            label_data = self.data[self.config.time_step :self.train_num ,\n",
        "                                            self.config.label_in_feature_index]\n",
        "        elif dataset == \"valid\":\n",
        "            label_data = self.data[self.train_num+self.config.time_step :self.valid_num ,\n",
        "                                            self.config.label_in_feature_index]\n",
        "        else:\n",
        "            label_data = self.data[self.valid_num+self.config.time_step :-self.config.predict_day ,\n",
        "                                            self.config.label_in_feature_index]\n",
        "            \n",
        "            \n",
        "        return label_data\n",
        "            \n",
        "        \n",
        "        "
      ],
      "execution_count": 8,
      "outputs": []
    },
    {
      "cell_type": "code",
      "metadata": {
        "id": "zmDo8a7zsJax"
      },
      "source": [
        "config = Config()\n",
        "data_gainer = Data(config)\n",
        "train_x, train_y = data_gainer.get_train_data()\n",
        "valid_x, valid_y = data_gainer.get_valid_data()\n",
        "test_x= data_gainer.get_test_data()\n",
        "train_label = data_gainer.return_label(\"train\")\n",
        "valid_label = data_gainer.return_label(\"valid\")\n",
        "test_label = data_gainer.return_label(\"test\")\n",
        "\n",
        "# train_y, valid_y, test_y = train_y.reshape(), valid_y, test_y "
      ],
      "execution_count": 9,
      "outputs": []
    },
    {
      "cell_type": "code",
      "metadata": {
        "id": "2gnvnT-5sJaz",
        "colab": {
          "base_uri": "https://localhost:8080/"
        },
        "outputId": "b6f6c1eb-477d-46f9-8409-97b3a7fe4312"
      },
      "source": [
        "print(train_x.shape)\n",
        "print(train_y.shape)\n",
        "print(valid_x.shape)\n",
        "print(valid_y.shape)\n",
        "print(test_x.shape)\n",
        "print(len(train_label))\n",
        "print(len(valid_label))\n",
        "print(len(test_label))\n",
        "# print(test_y.shape)"
      ],
      "execution_count": 10,
      "outputs": [
        {
          "output_type": "stream",
          "text": [
            "(4256, 20, 7)\n",
            "(4256, 20, 2)\n",
            "(896, 20, 7)\n",
            "(896, 20, 2)\n",
            "(896, 20, 7)\n",
            "4256\n",
            "896\n",
            "896\n"
          ],
          "name": "stdout"
        }
      ]
    },
    {
      "cell_type": "markdown",
      "metadata": {
        "id": "k6EdrhBdsJa2"
      },
      "source": [
        "## 2. Network and Training Preview"
      ]
    },
    {
      "cell_type": "markdown",
      "metadata": {
        "id": "16v9DMe1sJa3"
      },
      "source": [
        "Current net is a stacked LSTM, we are going to modify it later on "
      ]
    },
    {
      "cell_type": "code",
      "metadata": {
        "id": "jiOFyvyMsJa3"
      },
      "source": [
        "# class Net(Module):\n",
        "#     def __init__(self, config):\n",
        "#         super(Net, self).__init__()\n",
        "#         self.lstm = nn.LSTM(input_size=config.input_size, hidden_size=config.hidden_size,\n",
        "#                             num_layers=config.lstm_layers, batch_first=True,\n",
        "#                             dropout=config.dropout_rate)\n",
        "#         self.linear = nn.Linear(in_features=config.hidden_size, out_features=config.output_size)\n",
        "\n",
        "\n",
        "#     def forward(self, x, hidden=None):\n",
        "#         lstm_out, hidden = self.lstm(x, hidden)\n",
        "#         y = self.linear(lstm_out)\n",
        "#         return y, hidden\n",
        "\n"
      ],
      "execution_count": null,
      "outputs": []
    },
    {
      "cell_type": "code",
      "metadata": {
        "id": "PkNGvFq3sJa8"
      },
      "source": [
        "class Net(Module):\n",
        "    def __init__(self, config, attention_net=False):\n",
        "        super(Net, self).__init__()\n",
        "        self.lstm = nn.LSTM(input_size=config.input_size, hidden_size=config.hidden_size,\n",
        "                            num_layers=config.lstm_layers, batch_first=True,\n",
        "                            dropout=config.dropout_rate)\n",
        "        self.linear = nn.Linear(in_features=config.hidden_size, out_features=config.output_size)\n",
        "        self.query_linear = nn.Linear(in_features=config.hidden_size, out_features=config.hidden_size)\n",
        "        self.key = nn.Parameter(torch.Tensor(config.batch_size, config.time_step, config.hidden_size))\n",
        "        self.hidden_size = config.hidden_size  # 128\n",
        "        self.time_step = config.time_step      # 20\n",
        "        self.batch_size = config.batch_size    # 64\n",
        "        self.attention_net = attention_net     # True: attention layer\n",
        "        \n",
        "    def forward(self, x, hidden=None):\n",
        "        lstm_out, hidden = self.lstm(x, hidden)\n",
        "        y = 0\n",
        "        if self.attention_net:\n",
        "            query = self.query_linear(lstm_out)\n",
        "            correlation_matrix = torch.matmul(self.key, torch.transpose(query, 1, 2)) / math.sqrt(self.hidden_size)\n",
        "            score = F.softmax(correlation_matrix)\n",
        "            attention_out = torch.matmul(score, lstm_out)\n",
        "            y = self.linear(attention_out)\n",
        "        else:\n",
        "            y = self.linear(lstm_out)\n",
        "        return y, hidden"
      ],
      "execution_count": 28,
      "outputs": []
    },
    {
      "cell_type": "code",
      "metadata": {
        "id": "ZXw0khTNsJbB"
      },
      "source": [
        "def train(x_train, y_train, config, attention_net=False):\n",
        "    print(\"Start training ...\")\n",
        "    device = torch.device(\"cuda:0\" if config.use_cuda and torch.cuda.is_available() else \"cpu\")\n",
        "    net = Net(config, attention_net).to(device)\n",
        "\n",
        "    train_x, train_y = torch.from_numpy(x_train).float(), torch.from_numpy(y_train).float()\n",
        "    train_loader = DataLoader(TensorDataset(train_x, train_y), batch_size = config.batch_size, drop_last=True)\n",
        "\n",
        "    # totally s iterations\n",
        "#     s = train_x.shape[0]\n",
        "    optimizer = optim.Adam(net.parameters(), lr=config.learning_rate)\n",
        "    criterion = nn.MSELoss()\n",
        "    losses = []  # store losses of each iteration\n",
        "    epc_mean = []  # store mean losses of each epoch\n",
        "    for epoch in range(config.epoch):\n",
        "        epoch_loss = []\n",
        "        hidden = None\n",
        "        for i, data in enumerate(train_loader):\n",
        "            train_x, labels = data[0].to(device), data[1].to(device)\n",
        "            optimizer.zero_grad()\n",
        "            y_pred, hidden = net.forward(train_x, hidden)\n",
        "#             h_t, c_t = hidden\n",
        "#             h_t.detach_(), c_t.detach_()\n",
        "#             hidden = (h_t, c_t)\n",
        "            hidden = None\n",
        "            loss = criterion(y_pred, labels)\n",
        "            loss.backward()\n",
        "            optimizer.step()\n",
        "            losses.append(loss.item())\n",
        "            epoch_loss.append(loss.item())\n",
        "        cur_loss = np.mean(np.array(epoch_loss))\n",
        "        print(\"Epoch {}/{}\".format(epoch+1, config.epoch), \" Train Loss :{}\".format(cur_loss))\n",
        "        epc_mean.append(cur_loss)\n",
        "        \n",
        "    \n",
        "    torch.save(net.state_dict(), config.model_save_path + config.model_name)\n",
        "    print('Finished Training Trainset')\n",
        "    print('Net parameters are saved at {}'.format(config.model_save_path + config.model_name))\n",
        "    return losses, epc_mean\n",
        "\n",
        "\n",
        "def loss_plot(losses):\n",
        "    plt.plot(losses) \n",
        "    plt.xlabel('epoch') \n",
        "    plt.ylabel('training loss') \n",
        "    plt.title('Training Loss history') \n",
        "    plt.show()\n"
      ],
      "execution_count": 25,
      "outputs": []
    },
    {
      "cell_type": "code",
      "metadata": {
        "scrolled": true,
        "id": "Kn3RlBJ3sJbD",
        "colab": {
          "base_uri": "https://localhost:8080/"
        },
        "outputId": "1cb807c7-d3a5-4613-ece7-0f7ee49b369d"
      },
      "source": [
        "_, loss_mean= train(train_x, train_y, config)"
      ],
      "execution_count": 13,
      "outputs": [
        {
          "output_type": "stream",
          "text": [
            "Start training ...\n",
            "Epoch 1/50  Train Loss :0.9857167189023388\n",
            "Epoch 2/50  Train Loss :0.6967983932387251\n",
            "Epoch 3/50  Train Loss :0.48027460590533133\n",
            "Epoch 4/50  Train Loss :0.36620426775693005\n",
            "Epoch 5/50  Train Loss :0.24274315837242488\n",
            "Epoch 6/50  Train Loss :0.1947468042985272\n",
            "Epoch 7/50  Train Loss :0.1739081855543625\n",
            "Epoch 8/50  Train Loss :0.15534675725624522\n",
            "Epoch 9/50  Train Loss :0.1385062638211495\n",
            "Epoch 10/50  Train Loss :0.12324851160910703\n",
            "Epoch 11/50  Train Loss :0.1098336651539013\n",
            "Epoch 12/50  Train Loss :0.09828377968576084\n",
            "Epoch 13/50  Train Loss :0.0881222865523409\n",
            "Epoch 14/50  Train Loss :0.07992987524120332\n",
            "Epoch 15/50  Train Loss :0.07304082377535749\n",
            "Epoch 16/50  Train Loss :0.06853490993867058\n",
            "Epoch 17/50  Train Loss :0.06429029918456478\n",
            "Epoch 18/50  Train Loss :0.06764666181154994\n",
            "Epoch 19/50  Train Loss :0.08238401571844718\n",
            "Epoch 20/50  Train Loss :0.11713788214612252\n",
            "Epoch 21/50  Train Loss :0.06655621847638221\n",
            "Epoch 22/50  Train Loss :0.0637328461570137\n",
            "Epoch 23/50  Train Loss :0.051990234546724766\n",
            "Epoch 24/50  Train Loss :0.05065270221389052\n",
            "Epoch 25/50  Train Loss :0.046149927406891514\n",
            "Epoch 26/50  Train Loss :0.04537797439843416\n",
            "Epoch 27/50  Train Loss :0.042569268939655215\n",
            "Epoch 28/50  Train Loss :0.04290151981108669\n",
            "Epoch 29/50  Train Loss :0.04039784650658883\n",
            "Epoch 30/50  Train Loss :0.04253506956191094\n",
            "Epoch 31/50  Train Loss :0.04023359075480544\n",
            "Epoch 32/50  Train Loss :0.0450491646527132\n",
            "Epoch 33/50  Train Loss :0.03998909886307848\n",
            "Epoch 34/50  Train Loss :0.043949765208830587\n",
            "Epoch 35/50  Train Loss :0.03602986505998771\n",
            "Epoch 36/50  Train Loss :0.037571797557453164\n",
            "Epoch 37/50  Train Loss :0.031728184719417074\n",
            "Epoch 38/50  Train Loss :0.032531849461357426\n",
            "Epoch 39/50  Train Loss :0.028415205433214113\n",
            "Epoch 40/50  Train Loss :0.029360951132961173\n",
            "Epoch 41/50  Train Loss :0.026518886604818947\n",
            "Epoch 42/50  Train Loss :0.02763564186865714\n",
            "Epoch 43/50  Train Loss :0.02505615108590851\n",
            "Epoch 44/50  Train Loss :0.026901929312621923\n",
            "Epoch 45/50  Train Loss :0.024295166039269473\n",
            "Epoch 46/50  Train Loss :0.02688356175316748\n",
            "Epoch 47/50  Train Loss :0.02350548359933796\n",
            "Epoch 48/50  Train Loss :0.02585532568193583\n",
            "Epoch 49/50  Train Loss :0.02217455622705339\n",
            "Epoch 50/50  Train Loss :0.024039044310755806\n",
            "Finished Training Trainset\n",
            "Net parameters are saved at ./checkpoint/pytorch/model_.pth\n"
          ],
          "name": "stdout"
        }
      ]
    },
    {
      "cell_type": "code",
      "metadata": {
        "scrolled": true,
        "id": "GdweR_97sJbG",
        "colab": {
          "base_uri": "https://localhost:8080/",
          "height": 295
        },
        "outputId": "45a9ec23-8e91-4f41-e0db-9d9c4caa9606"
      },
      "source": [
        "loss_plot(loss_mean)"
      ],
      "execution_count": 14,
      "outputs": [
        {
          "output_type": "display_data",
          "data": {
            "image/png": "[encoded data removed]",
            "text/plain": [
              "<Figure size 432x288 with 1 Axes>"
            ]
          },
          "metadata": {
            "tags": [],
            "needs_background": "light"
          }
        }
      ]
    },
    {
      "cell_type": "code",
      "metadata": {
        "id": "vTu68R3VsJbJ"
      },
      "source": [
        "def predict(x_test, config, attention_net=False):\n",
        "    device = torch.device(\"cuda:0\" if config.use_cuda and torch.cuda.is_available() else \"cpu\")\n",
        "    y_pred = torch.empty((0, len(config.label_columns))).to(device)\n",
        "    y_hat = []\n",
        "    test_X = torch.from_numpy(x_test).float()\n",
        "    test_set = TensorDataset(test_X)\n",
        "    test_loader = DataLoader(test_set, batch_size=1)\n",
        "\n",
        "    \n",
        "    net = Net(config, attention_net).to(device)\n",
        "    net.load_state_dict(torch.load(config.model_save_path + config.model_name))\n",
        "    net.eval()\n",
        "    hidden = None\n",
        "    for data in test_loader:\n",
        "        tmp = []\n",
        "        x = data[0].to(device)\n",
        "        y, hidden = net.forward(x, hidden)\n",
        "        hidden = None\n",
        "#         y_pred_0 = torch.cat((y_pred, y[0]), 0)\n",
        "        tmp.append(y[0][-1][0].item())\n",
        "        tmp.append(y[0][-1][1].item())\n",
        "        y_hat.append(tmp)\n",
        "    return np.array(y_hat)\n",
        "\n",
        "\n",
        "def up_down_accuracy(y_true, y_pred):\n",
        "    y_true = np.array(y_true)\n",
        "    y_pred = np.array(y_pred)\n",
        "    y_var_test=y_true[1:]-y_true[:len(y_true)-1]\n",
        "    y_var_predict=y_pred[1:]-y_pred[:len(y_pred)-1]\n",
        "    txt=np.zeros(len(y_var_test))\n",
        "    for i in range(len(y_var_test-1)):#计算数量\n",
        "        txt[i]=np.sign(y_var_test[i])==np.sign(y_var_predict[i])\n",
        "    result=sum(txt)/len(txt)\n",
        "    return result\n",
        "\n",
        "\n",
        "def evaluate(y_pred, y_test, data_gainer):\n",
        "    labels_open = []\n",
        "    labels_close = []\n",
        "    for i in range(y_test.shape[0]):\n",
        "        labels_open.append(y_test[i][0])\n",
        "    for i in range(y_test.shape[0]):\n",
        "        labels_close.append(y_test[i][1])\n",
        "    \n",
        "    \n",
        "    \n",
        "    print(\"###############################################################\")\n",
        "    print(\"Evaluation of open price predction on valid set:\")\n",
        "    \n",
        "    y_pred_0 = y_pred[:,0] * data_gainer.std[0] + data_gainer.mean[0]\n",
        "    \n",
        "    \n",
        "    # Error comptuer of open price prediction\n",
        "    #Root Mean Square Error\n",
        "    RMSE = np.sqrt(np.sum((np.array(labels_open) - y_pred_0) ** 2) / len(labels_open)) \n",
        "    # Mean Absolute Percentage Error\n",
        "    MAPE = np.sum((np.array(labels_open) - y_pred_0)/np.array(labels_open))/len(labels_open)*100 \n",
        "    # Mean Bias Error\n",
        "    MBE = np.sum((np.array(labels_open) - y_pred_0)) / len(labels_open)\n",
        "    print(\"RMSE on validation set is {}\".format(RMSE))\n",
        "    print(\"MAPE on validation set is {}\".format(MAPE))\n",
        "    print(\"MBE on validation set is {}\".format(MBE))    \n",
        "    up_down_accu = up_down_accuracy(labels_open, y_pred_0)\n",
        "    print(\"Up and down accuracy on validation set is {}%\".format(round(up_down_accu*100),2))\n",
        "\n",
        "\n",
        "    plt.xlabel('Days') \n",
        "    plt.ylabel('Price') \n",
        "    plt.title('Valid Evaluation of Open prices for 100 days') \n",
        "    plt.plot(y_pred_0.tolist()[:100], 'r', label = \"predict\")\n",
        "    plt.plot(labels_open[:100], 'b', label = \"real\")\n",
        "    plt.legend(loc=\"upper right\")\n",
        "    plt.show()\n",
        "    \n",
        "    \n",
        "    # Error comptuer of close price prediction\n",
        "\n",
        "    print(\"###############################################################\")\n",
        "    print(\"Evaluation of close price predction on valid set:\")\n",
        "    y_pred_1 = y_pred[:,1] * data_gainer.std[1] + data_gainer.mean[1]\n",
        "    \n",
        "    \n",
        "    # Error comptuer of open price prediction\n",
        "    #Root Mean Square Error\n",
        "    RMSE = np.sqrt(np.sum((np.array(labels_close) - y_pred_1) ** 2) / len(labels_close)) \n",
        "    # Mean Absolute Percentage Error\n",
        "    MAPE = np.sum((np.array(labels_close) - y_pred_1)/np.array(labels_close))/len(labels_close)*100 \n",
        "    # Mean Bias Error\n",
        "    MBE = np.sum((np.array(labels_close) - y_pred_1)) / len(labels_close)\n",
        "    print(\"RMSE on validation set is {}\".format(RMSE))\n",
        "    print(\"MAPE on validation set is {}\".format(MAPE))\n",
        "    print(\"MBE on validation set is {}\".format(MBE))    \n",
        "    up_down_accu = up_down_accuracy(labels_close, y_pred_1)\n",
        "    print(\"Up and down accuracy on validation set is {}%\".format(round(up_down_accu*100),2))\n",
        "\n",
        "\n",
        "    plt.xlabel('Days') \n",
        "    plt.ylabel('Price') \n",
        "    plt.title('Valid Evaluation of Close prices for 100 days') \n",
        "    plt.plot(y_pred_1.tolist()[:100], 'r', label = \"predict close\")\n",
        "    \n",
        "    \n",
        "    plt.plot(labels_close[:100], 'b', label = \"real close\")\n",
        "    plt.legend(loc=\"upper right\")\n",
        "    plt.show()\n"
      ],
      "execution_count": 15,
      "outputs": []
    },
    {
      "cell_type": "code",
      "metadata": {
        "id": "LC0ac6IFsJbM"
      },
      "source": [
        "y_pred = predict(valid_x, config)"
      ],
      "execution_count": 16,
      "outputs": []
    },
    {
      "cell_type": "code",
      "metadata": {
        "id": "FNi8y8-0sJbO",
        "colab": {
          "base_uri": "https://localhost:8080/"
        },
        "outputId": "a5d7d6d8-503d-4a9f-87d2-3c3ac859da4a"
      },
      "source": [
        "print(y_pred.shape)"
      ],
      "execution_count": 17,
      "outputs": [
        {
          "output_type": "stream",
          "text": [
            "(896, 2)\n"
          ],
          "name": "stdout"
        }
      ]
    },
    {
      "cell_type": "code",
      "metadata": {
        "id": "WuP8ESHFsJbR",
        "colab": {
          "base_uri": "https://localhost:8080/",
          "height": 777
        },
        "outputId": "e29129d9-359c-4625-e2ed-a61da1bed4b3"
      },
      "source": [
        "evaluate(y_pred, valid_label, data_gainer)"
      ],
      "execution_count": 19,
      "outputs": [
        {
          "output_type": "stream",
          "text": [
            "###############################################################\n",
            "Evaluation of open price predction on valid set:\n",
            "RMSE on validation set is 60.252224261363466\n",
            "MAPE on validation set is 0.656497415922612\n",
            "MBE on validation set is 17.650418711150714\n",
            "Up and down accuracy on validation set is 71.0%\n"
          ],
          "name": "stdout"
        },
        {
          "output_type": "display_data",
          "data": {
            "image/png": "[encoded data removed]",
            "text/plain": [
              "<Figure size 432x288 with 1 Axes>"
            ]
          },
          "metadata": {
            "tags": [],
            "needs_background": "light"
          }
        },
        {
          "output_type": "stream",
          "text": [
            "###############################################################\n",
            "Evaluation of close price predction on valid set:\n",
            "RMSE on validation set is 69.80972396422847\n",
            "MAPE on validation set is 0.5852818932478002\n",
            "MBE on validation set is 15.946314457575289\n",
            "Up and down accuracy on validation set is 50.0%\n"
          ],
          "name": "stdout"
        },
        {
          "output_type": "display_data",
          "data": {
            "image/png": "[encoded data removed]",
            "text/plain": [
              "<Figure size 432x288 with 1 Axes>"
            ]
          },
          "metadata": {
            "tags": [],
            "needs_background": "light"
          }
        }
      ]
    },
    {
      "cell_type": "markdown",
      "metadata": {
        "id": "9c_APkuBABIa"
      },
      "source": [
        "##Attention layer"
      ]
    },
    {
      "cell_type": "code",
      "metadata": {
        "id": "ew5E7Ema_6V7",
        "colab": {
          "base_uri": "https://localhost:8080/"
        },
        "outputId": "dc3495b6-f92c-4f2a-a415-a1a221d76ba7"
      },
      "source": [
        "_, loss_mean_attention = train(train_x, train_y, config, True)"
      ],
      "execution_count": 29,
      "outputs": [
        {
          "output_type": "stream",
          "text": [
            "Start training ...\n"
          ],
          "name": "stdout"
        },
        {
          "output_type": "stream",
          "text": [
            "/usr/local/lib/python3.6/dist-packages/ipykernel_launcher.py:21: UserWarning: Implicit dimension choice for softmax has been deprecated. Change the call to include dim=X as an argument.\n"
          ],
          "name": "stderr"
        },
        {
          "output_type": "stream",
          "text": [
            "Epoch 1/50  Train Loss :1.0095767959472581\n",
            "Epoch 2/50  Train Loss :0.8335297730765446\n",
            "Epoch 3/50  Train Loss :0.5426590760665325\n",
            "Epoch 4/50  Train Loss :0.48050520791774476\n",
            "Epoch 5/50  Train Loss :0.4330556772373243\n",
            "Epoch 6/50  Train Loss :0.3991249345673361\n",
            "Epoch 7/50  Train Loss :0.3668965044410222\n",
            "Epoch 8/50  Train Loss :0.33365122601389885\n",
            "Epoch 9/50  Train Loss :0.30020391699773347\n",
            "Epoch 10/50  Train Loss :0.2663593716843576\n",
            "Epoch 11/50  Train Loss :0.23273212055783282\n",
            "Epoch 12/50  Train Loss :0.20031711477239503\n",
            "Epoch 13/50  Train Loss :0.16966308230819943\n",
            "Epoch 14/50  Train Loss :0.14261154963980627\n",
            "Epoch 15/50  Train Loss :0.11961368324189221\n",
            "Epoch 16/50  Train Loss :0.10183510437667737\n",
            "Epoch 17/50  Train Loss :0.08799506589738568\n",
            "Epoch 18/50  Train Loss :0.07725241237538726\n",
            "Epoch 19/50  Train Loss :0.06889558196858023\n",
            "Epoch 20/50  Train Loss :0.06164412590265839\n",
            "Epoch 21/50  Train Loss :0.055007124163570224\n",
            "Epoch 22/50  Train Loss :0.04891573132772464\n",
            "Epoch 23/50  Train Loss :0.04309938382776278\n",
            "Epoch 24/50  Train Loss :0.03796884521117053\n",
            "Epoch 25/50  Train Loss :0.033471100482997965\n",
            "Epoch 26/50  Train Loss :0.03032600309322306\n",
            "Epoch 27/50  Train Loss :0.02753090279557827\n",
            "Epoch 28/50  Train Loss :0.025329122868821618\n",
            "Epoch 29/50  Train Loss :0.02507197516035486\n",
            "Epoch 30/50  Train Loss :0.02800266707587677\n",
            "Epoch 31/50  Train Loss :0.02245409250749755\n",
            "Epoch 32/50  Train Loss :0.0213206185510375\n",
            "Epoch 33/50  Train Loss :0.02062906594603026\n",
            "Epoch 34/50  Train Loss :0.022834592692864437\n",
            "Epoch 35/50  Train Loss :0.017419639479846934\n",
            "Epoch 36/50  Train Loss :0.0165853363159289\n",
            "Epoch 37/50  Train Loss :0.016148141530390025\n",
            "Epoch 38/50  Train Loss :0.016827125086406755\n",
            "Epoch 39/50  Train Loss :0.01608648722674733\n",
            "Epoch 40/50  Train Loss :0.0168560234178034\n",
            "Epoch 41/50  Train Loss :0.014325455656613816\n",
            "Epoch 42/50  Train Loss :0.013621693190405935\n",
            "Epoch 43/50  Train Loss :0.011881253799374186\n",
            "Epoch 44/50  Train Loss :0.011222918931514758\n",
            "Epoch 45/50  Train Loss :0.010533269569736369\n",
            "Epoch 46/50  Train Loss :0.010219910462513904\n",
            "Epoch 47/50  Train Loss :0.010048809355243011\n",
            "Epoch 48/50  Train Loss :0.010279628035002106\n",
            "Epoch 49/50  Train Loss :0.01047241028925672\n",
            "Epoch 50/50  Train Loss :0.011608769393095634\n",
            "Finished Training Trainset\n",
            "Net parameters are saved at ./checkpoint/pytorch/model_.pth\n"
          ],
          "name": "stdout"
        }
      ]
    },
    {
      "cell_type": "code",
      "metadata": {
        "id": "9tj-8zElASp1",
        "colab": {
          "base_uri": "https://localhost:8080/",
          "height": 295
        },
        "outputId": "6d443e2e-bb52-4af5-f314-b67518df0d36"
      },
      "source": [
        "loss_plot(loss_mean_attention)"
      ],
      "execution_count": 30,
      "outputs": [
        {
          "output_type": "display_data",
          "data": {
            "image/png": "[encoded data removed]",
            "text/plain": [
              "<Figure size 432x288 with 1 Axes>"
            ]
          },
          "metadata": {
            "tags": [],
            "needs_background": "light"
          }
        }
      ]
    },
    {
      "cell_type": "code",
      "metadata": {
        "id": "hybxA116AVby",
        "colab": {
          "base_uri": "https://localhost:8080/",
          "height": 814
        },
        "outputId": "214bc594-a8d4-4e9f-98ba-14eaf5672f9b"
      },
      "source": [
        "y_pred_attention = predict(valid_x, config, True)\n",
        "evaluate(y_pred_attention, valid_label, data_gainer)"
      ],
      "execution_count": 31,
      "outputs": [
        {
          "output_type": "stream",
          "text": [
            "/usr/local/lib/python3.6/dist-packages/ipykernel_launcher.py:21: UserWarning: Implicit dimension choice for softmax has been deprecated. Change the call to include dim=X as an argument.\n"
          ],
          "name": "stderr"
        },
        {
          "output_type": "stream",
          "text": [
            "###############################################################\n",
            "Evaluation of open price predction on valid set:\n",
            "RMSE on validation set is 158.91087201319445\n",
            "MAPE on validation set is -2.7015604679648333\n",
            "MBE on validation set is -71.93276443768039\n",
            "Up and down accuracy on validation set is 50.0%\n"
          ],
          "name": "stdout"
        },
        {
          "output_type": "display_data",
          "data": {
            "image/png": "[encoded data removed]",
            "text/plain": [
              "<Figure size 432x288 with 1 Axes>"
            ]
          },
          "metadata": {
            "tags": [],
            "needs_background": "light"
          }
        },
        {
          "output_type": "stream",
          "text": [
            "###############################################################\n",
            "Evaluation of close price predction on valid set:\n",
            "RMSE on validation set is 183.38294582764465\n",
            "MAPE on validation set is -3.9253888828180887\n",
            "MBE on validation set is -105.16256893251118\n",
            "Up and down accuracy on validation set is 53.0%\n"
          ],
          "name": "stdout"
        },
        {
          "output_type": "display_data",
          "data": {
            "image/png": "[encoded data removed]",
            "text/plain": [
              "<Figure size 432x288 with 1 Axes>"
            ]
          },
          "metadata": {
            "tags": [],
            "needs_background": "light"
          }
        }
      ]
    },
    {
      "cell_type": "markdown",
      "metadata": {
        "id": "xMPk70jMsJbS"
      },
      "source": [
        "## 3. Parameter Tuning"
      ]
    },
    {
      "cell_type": "markdown",
      "metadata": {
        "id": "QchWhWrusJbT"
      },
      "source": [
        "Parameter tuning to increase performaces on the valid set"
      ]
    },
    {
      "cell_type": "code",
      "metadata": {
        "id": "cT7I_VaOsJbT"
      },
      "source": [
        ""
      ],
      "execution_count": null,
      "outputs": []
    }
  ]
}
