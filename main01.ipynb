{
 "cells": [
  {
   "cell_type": "markdown",
   "metadata": {},
   "source": [
    "# EC523 Project : Stock Price Prediction"
   ]
  },
  {
   "cell_type": "markdown",
   "metadata": {},
   "source": [
    "Import"
   ]
  },
  {
   "cell_type": "code",
   "execution_count": 1,
   "metadata": {},
   "outputs": [
    {
     "ename": "ModuleNotFoundError",
     "evalue": "No module named 'torchnlp'",
     "output_type": "error",
     "traceback": [
      "\u001b[0;31m---------------------------------------------------------------------------\u001b[0m",
      "\u001b[0;31mModuleNotFoundError\u001b[0m                       Traceback (most recent call last)",
      "\u001b[0;32m<ipython-input-1-cca1607ae286>\u001b[0m in \u001b[0;36m<module>\u001b[0;34m\u001b[0m\n\u001b[1;32m     12\u001b[0m \u001b[0;32mimport\u001b[0m \u001b[0mtorch\u001b[0m\u001b[0;34m.\u001b[0m\u001b[0moptim\u001b[0m \u001b[0;32mas\u001b[0m \u001b[0moptim\u001b[0m\u001b[0;34m\u001b[0m\u001b[0;34m\u001b[0m\u001b[0m\n\u001b[1;32m     13\u001b[0m \u001b[0;32mfrom\u001b[0m \u001b[0mtorch\u001b[0m\u001b[0;34m.\u001b[0m\u001b[0mutils\u001b[0m\u001b[0;34m.\u001b[0m\u001b[0mdata\u001b[0m \u001b[0;32mimport\u001b[0m \u001b[0mDataLoader\u001b[0m\u001b[0;34m,\u001b[0m \u001b[0mTensorDataset\u001b[0m\u001b[0;34m\u001b[0m\u001b[0;34m\u001b[0m\u001b[0m\n\u001b[0;32m---> 14\u001b[0;31m \u001b[0;32mimport\u001b[0m \u001b[0mtorchnlp\u001b[0m \u001b[0;32mas\u001b[0m \u001b[0mnlp\u001b[0m\u001b[0;34m\u001b[0m\u001b[0;34m\u001b[0m\u001b[0m\n\u001b[0m",
      "\u001b[0;31mModuleNotFoundError\u001b[0m: No module named 'torchnlp'"
     ]
    }
   ],
   "source": [
    "import pandas as pd\n",
    "import numpy as np\n",
    "import os\n",
    "import sys\n",
    "import time\n",
    "import matplotlib.pyplot as plt\n",
    "from sklearn.model_selection import train_test_split\n",
    "import torch\n",
    "import torch.nn as nn\n",
    "from torch.nn import Module\n",
    "import torch.nn.functional as F\n",
    "import torch.optim as optim\n",
    "from torch.utils.data import DataLoader, TensorDataset\n",
    "\n",
    "import torchnlp as nlp"
   ]
  },
  {
   "cell_type": "markdown",
   "metadata": {},
   "source": [
    "##  1. Data Preprocess"
   ]
  },
  {
   "cell_type": "markdown",
   "metadata": {},
   "source": [
    "First of all, let's read the data set file and take a look of it."
   ]
  },
  {
   "cell_type": "code",
   "execution_count": 2,
   "metadata": {},
   "outputs": [],
   "source": [
    "path = \"./data/stock_data.csv\"\n",
    "stock_dataset =  pd.read_csv(path, header=0)"
   ]
  },
  {
   "cell_type": "markdown",
   "metadata": {},
   "source": [
    "Let's take a look of first 5 rows of data set."
   ]
  },
  {
   "cell_type": "code",
   "execution_count": 3,
   "metadata": {},
   "outputs": [
    {
     "data": {
      "text/html": [
       "<div>\n",
       "<style scoped>\n",
       "    .dataframe tbody tr th:only-of-type {\n",
       "        vertical-align: middle;\n",
       "    }\n",
       "\n",
       "    .dataframe tbody tr th {\n",
       "        vertical-align: top;\n",
       "    }\n",
       "\n",
       "    .dataframe thead th {\n",
       "        text-align: right;\n",
       "    }\n",
       "</style>\n",
       "<table border=\"1\" class=\"dataframe\">\n",
       "  <thead>\n",
       "    <tr style=\"text-align: right;\">\n",
       "      <th></th>\n",
       "      <th>index_code</th>\n",
       "      <th>date</th>\n",
       "      <th>open</th>\n",
       "      <th>close</th>\n",
       "      <th>low</th>\n",
       "      <th>high</th>\n",
       "      <th>volume</th>\n",
       "      <th>money</th>\n",
       "      <th>change</th>\n",
       "    </tr>\n",
       "  </thead>\n",
       "  <tbody>\n",
       "    <tr>\n",
       "      <th>0</th>\n",
       "      <td>sh000001</td>\n",
       "      <td>1990/12/20</td>\n",
       "      <td>104.30</td>\n",
       "      <td>104.39</td>\n",
       "      <td>99.98</td>\n",
       "      <td>104.39</td>\n",
       "      <td>197000.0</td>\n",
       "      <td>85000.0</td>\n",
       "      <td>0.044109</td>\n",
       "    </tr>\n",
       "    <tr>\n",
       "      <th>1</th>\n",
       "      <td>sh000001</td>\n",
       "      <td>1990/12/21</td>\n",
       "      <td>109.07</td>\n",
       "      <td>109.13</td>\n",
       "      <td>103.73</td>\n",
       "      <td>109.13</td>\n",
       "      <td>28000.0</td>\n",
       "      <td>16100.0</td>\n",
       "      <td>0.045407</td>\n",
       "    </tr>\n",
       "    <tr>\n",
       "      <th>2</th>\n",
       "      <td>sh000001</td>\n",
       "      <td>1990/12/24</td>\n",
       "      <td>113.57</td>\n",
       "      <td>114.55</td>\n",
       "      <td>109.13</td>\n",
       "      <td>114.55</td>\n",
       "      <td>32000.0</td>\n",
       "      <td>31100.0</td>\n",
       "      <td>0.049666</td>\n",
       "    </tr>\n",
       "    <tr>\n",
       "      <th>3</th>\n",
       "      <td>sh000001</td>\n",
       "      <td>1990/12/25</td>\n",
       "      <td>120.09</td>\n",
       "      <td>120.25</td>\n",
       "      <td>114.55</td>\n",
       "      <td>120.25</td>\n",
       "      <td>15000.0</td>\n",
       "      <td>6500.0</td>\n",
       "      <td>0.049760</td>\n",
       "    </tr>\n",
       "    <tr>\n",
       "      <th>4</th>\n",
       "      <td>sh000001</td>\n",
       "      <td>1990/12/26</td>\n",
       "      <td>125.27</td>\n",
       "      <td>125.27</td>\n",
       "      <td>120.25</td>\n",
       "      <td>125.27</td>\n",
       "      <td>100000.0</td>\n",
       "      <td>53700.0</td>\n",
       "      <td>0.041746</td>\n",
       "    </tr>\n",
       "  </tbody>\n",
       "</table>\n",
       "</div>"
      ],
      "text/plain": [
       "  index_code        date    open   close     low    high    volume    money  \\\n",
       "0   sh000001  1990/12/20  104.30  104.39   99.98  104.39  197000.0  85000.0   \n",
       "1   sh000001  1990/12/21  109.07  109.13  103.73  109.13   28000.0  16100.0   \n",
       "2   sh000001  1990/12/24  113.57  114.55  109.13  114.55   32000.0  31100.0   \n",
       "3   sh000001  1990/12/25  120.09  120.25  114.55  120.25   15000.0   6500.0   \n",
       "4   sh000001  1990/12/26  125.27  125.27  120.25  125.27  100000.0  53700.0   \n",
       "\n",
       "     change  \n",
       "0  0.044109  \n",
       "1  0.045407  \n",
       "2  0.049666  \n",
       "3  0.049760  \n",
       "4  0.041746  "
      ]
     },
     "execution_count": 3,
     "metadata": {},
     "output_type": "execute_result"
    }
   ],
   "source": [
    "stock_dataset.head()"
   ]
  },
  {
   "cell_type": "code",
   "execution_count": 4,
   "metadata": {
    "scrolled": true
   },
   "outputs": [
    {
     "data": {
      "text/html": [
       "<div>\n",
       "<style scoped>\n",
       "    .dataframe tbody tr th:only-of-type {\n",
       "        vertical-align: middle;\n",
       "    }\n",
       "\n",
       "    .dataframe tbody tr th {\n",
       "        vertical-align: top;\n",
       "    }\n",
       "\n",
       "    .dataframe thead th {\n",
       "        text-align: right;\n",
       "    }\n",
       "</style>\n",
       "<table border=\"1\" class=\"dataframe\">\n",
       "  <thead>\n",
       "    <tr style=\"text-align: right;\">\n",
       "      <th></th>\n",
       "      <th>open</th>\n",
       "      <th>close</th>\n",
       "      <th>low</th>\n",
       "      <th>high</th>\n",
       "      <th>volume</th>\n",
       "      <th>money</th>\n",
       "      <th>change</th>\n",
       "    </tr>\n",
       "  </thead>\n",
       "  <tbody>\n",
       "    <tr>\n",
       "      <th>count</th>\n",
       "      <td>6109.000000</td>\n",
       "      <td>6109.000000</td>\n",
       "      <td>6109.000000</td>\n",
       "      <td>6109.000000</td>\n",
       "      <td>6.109000e+03</td>\n",
       "      <td>6.109000e+03</td>\n",
       "      <td>6109.000000</td>\n",
       "    </tr>\n",
       "    <tr>\n",
       "      <th>mean</th>\n",
       "      <td>1774.168370</td>\n",
       "      <td>1775.191989</td>\n",
       "      <td>1753.858407</td>\n",
       "      <td>1792.686525</td>\n",
       "      <td>2.258868e+10</td>\n",
       "      <td>6.013645e+10</td>\n",
       "      <td>0.000882</td>\n",
       "    </tr>\n",
       "    <tr>\n",
       "      <th>std</th>\n",
       "      <td>1047.920798</td>\n",
       "      <td>1049.208658</td>\n",
       "      <td>1033.753364</td>\n",
       "      <td>1060.291179</td>\n",
       "      <td>3.635068e+10</td>\n",
       "      <td>1.253975e+11</td>\n",
       "      <td>0.026197</td>\n",
       "    </tr>\n",
       "    <tr>\n",
       "      <th>min</th>\n",
       "      <td>104.300000</td>\n",
       "      <td>104.390000</td>\n",
       "      <td>99.980000</td>\n",
       "      <td>104.390000</td>\n",
       "      <td>1.500000e+04</td>\n",
       "      <td>6.500000e+03</td>\n",
       "      <td>-0.163937</td>\n",
       "    </tr>\n",
       "    <tr>\n",
       "      <th>25%</th>\n",
       "      <td>1100.690000</td>\n",
       "      <td>1101.490000</td>\n",
       "      <td>1087.850000</td>\n",
       "      <td>1112.100000</td>\n",
       "      <td>3.634716e+09</td>\n",
       "      <td>3.157918e+09</td>\n",
       "      <td>-0.007923</td>\n",
       "    </tr>\n",
       "    <tr>\n",
       "      <th>50%</th>\n",
       "      <td>1570.650000</td>\n",
       "      <td>1570.700000</td>\n",
       "      <td>1556.530000</td>\n",
       "      <td>1583.760000</td>\n",
       "      <td>8.551797e+09</td>\n",
       "      <td>9.848770e+09</td>\n",
       "      <td>0.000701</td>\n",
       "    </tr>\n",
       "    <tr>\n",
       "      <th>75%</th>\n",
       "      <td>2293.810000</td>\n",
       "      <td>2295.950000</td>\n",
       "      <td>2278.160000</td>\n",
       "      <td>2312.560000</td>\n",
       "      <td>1.970836e+10</td>\n",
       "      <td>7.762494e+10</td>\n",
       "      <td>0.009374</td>\n",
       "    </tr>\n",
       "    <tr>\n",
       "      <th>max</th>\n",
       "      <td>6057.430000</td>\n",
       "      <td>6092.060000</td>\n",
       "      <td>6040.710000</td>\n",
       "      <td>6124.040000</td>\n",
       "      <td>2.760000e+11</td>\n",
       "      <td>1.310000e+12</td>\n",
       "      <td>1.052691</td>\n",
       "    </tr>\n",
       "  </tbody>\n",
       "</table>\n",
       "</div>"
      ],
      "text/plain": [
       "              open        close          low         high        volume  \\\n",
       "count  6109.000000  6109.000000  6109.000000  6109.000000  6.109000e+03   \n",
       "mean   1774.168370  1775.191989  1753.858407  1792.686525  2.258868e+10   \n",
       "std    1047.920798  1049.208658  1033.753364  1060.291179  3.635068e+10   \n",
       "min     104.300000   104.390000    99.980000   104.390000  1.500000e+04   \n",
       "25%    1100.690000  1101.490000  1087.850000  1112.100000  3.634716e+09   \n",
       "50%    1570.650000  1570.700000  1556.530000  1583.760000  8.551797e+09   \n",
       "75%    2293.810000  2295.950000  2278.160000  2312.560000  1.970836e+10   \n",
       "max    6057.430000  6092.060000  6040.710000  6124.040000  2.760000e+11   \n",
       "\n",
       "              money       change  \n",
       "count  6.109000e+03  6109.000000  \n",
       "mean   6.013645e+10     0.000882  \n",
       "std    1.253975e+11     0.026197  \n",
       "min    6.500000e+03    -0.163937  \n",
       "25%    3.157918e+09    -0.007923  \n",
       "50%    9.848770e+09     0.000701  \n",
       "75%    7.762494e+10     0.009374  \n",
       "max    1.310000e+12     1.052691  "
      ]
     },
     "execution_count": 4,
     "metadata": {},
     "output_type": "execute_result"
    }
   ],
   "source": [
    "stock_dataset.describe()"
   ]
  },
  {
   "cell_type": "markdown",
   "metadata": {},
   "source": [
    "What is the exact length of each column?"
   ]
  },
  {
   "cell_type": "code",
   "execution_count": 5,
   "metadata": {},
   "outputs": [
    {
     "name": "stdout",
     "output_type": "stream",
     "text": [
      "6109\n"
     ]
    }
   ],
   "source": [
    "open_price = stock_dataset.open.values.astype('float32')\n",
    "open_price = open_price.reshape(-1, 1)\n",
    "print(open_price.shape[0])"
   ]
  },
  {
   "cell_type": "code",
   "execution_count": 6,
   "metadata": {
    "scrolled": true
   },
   "outputs": [
    {
     "data": {
      "image/png": "[encoded data removed]",
      "text/plain": [
       "<Figure size 432x288 with 1 Axes>"
      ]
     },
     "metadata": {
      "needs_background": "light"
     },
     "output_type": "display_data"
    }
   ],
   "source": [
    "plt.plot(open_price)\n",
    "plt.ylabel(\"Open prices\")\n",
    "plt.xlabel(\"Days\")\n",
    "plt.show()"
   ]
  },
  {
   "cell_type": "markdown",
   "metadata": {},
   "source": [
    "Here is the class of parameters of this project:"
   ]
  },
  {
   "cell_type": "code",
   "execution_count": 80,
   "metadata": {},
   "outputs": [],
   "source": [
    "class Config:\n",
    "    \n",
    "    feature_columns = list(range(2, 9))     # feature columns' indecies \n",
    "    label_columns = [2,3]                # predicted feature columns' indecies\n",
    "    label_in_feature_index = (lambda x,y: [x.index(i) for i in y])(feature_columns, label_columns)  \n",
    "    \n",
    "    predict_day = 1             # predited length (days)\n",
    "    \n",
    "    input_size = len(feature_columns)\n",
    "    output_size = len(label_columns)\n",
    "\n",
    "    hidden_size = 128           # hiddent size\n",
    "    lstm_layers = 2             # stacked layer number\n",
    "    dropout_rate = 0.2          # dropout\n",
    "    time_step = 20              # step size (day)\n",
    "    epoch = 50\n",
    "    \n",
    "#     do_train = True\n",
    "#     do_predict = True\n",
    "#     shuffle_train_data = True           \n",
    "\n",
    "    train_data_rate = 0.7      \n",
    "    valid_data_rate = 0.15   \n",
    "    test_data_rate = 0.15\n",
    "\n",
    "    batch_size = 64\n",
    "    learning_rate = 0.0001\n",
    "\n",
    "    use_cuda = True\n",
    "    # path\n",
    "    used_frame = \"pytorch\"\n",
    "    model_name = \"model_\" + \".pth\"\n",
    "    train_data_path = \"./data/stock_data.csv\"\n",
    "    model_save_path = \"./checkpoint/\" + used_frame + \"/\"\n",
    "    \n",
    "\n",
    "    # save \n",
    "    if not os.path.exists(model_save_path):\n",
    "        os.makedirs(model_save_path)    \n"
   ]
  },
  {
   "cell_type": "markdown",
   "metadata": {},
   "source": [
    "Class of dataset process and split."
   ]
  },
  {
   "cell_type": "code",
   "execution_count": 81,
   "metadata": {},
   "outputs": [],
   "source": [
    "class Data:\n",
    "    def __init__(self, config):\n",
    "        self.config = config\n",
    "        self.data, self.data_column_name = self.read_data()\n",
    "        self.data = np.array(self.data, dtype=np.float64)\n",
    "        self.data_num = self.data.shape[0]\n",
    "        ### interval of dataset\n",
    "        # x_train [0:s]\n",
    "        # y_train [d:s+d]\n",
    "        # x_valid [s:v]\n",
    "        # y_valid [s+d:v+d]\n",
    "        # x_test [v:-d]\n",
    "        # y_test [v+d:-1]\n",
    "\n",
    "        self.train_num = int(self.data_num * self.config.train_data_rate)   #  self.train_num = s\n",
    "        \n",
    "        self.valid_num = int(self.train_num + self.data_num * self.config.valid_data_rate)  # self.valid_num = v\n",
    "        \n",
    "        self.mean = np.mean(self.data, axis=0)              # mean and std\n",
    "        self.std = np.std(self.data, axis=0)\n",
    "        self.norm_data = (self.data - self.mean)/self.std   # normalization\n",
    "\n",
    "\n",
    "    def read_data(self):                # read data\n",
    "        init_data = pd.read_csv(self.config.train_data_path, usecols=self.config.feature_columns)\n",
    "        \n",
    "        \n",
    "        return init_data.values, init_data.columns.tolist()     \n",
    "\n",
    "    \n",
    "    def get_train_data(self):\n",
    "        feature_data = self.norm_data[:self.train_num]  # interval [0:s]  \n",
    "        \n",
    "        # interval [d:s+d]  \n",
    "        label_data = self.norm_data[self.config.predict_day : self.config.predict_day + self.train_num,\n",
    "                                    self.config.label_in_feature_index]    \n",
    "\n",
    "        train_x = [feature_data[i:i+self.config.time_step] for i in range(self.train_num-self.config.time_step)]\n",
    "        train_y = [label_data[i:i+self.config.time_step] for i in range(self.train_num-self.config.time_step)]\n",
    "        \n",
    "\n",
    "        train_x, train_y = np.array(train_x), np.array(train_y)\n",
    "\n",
    "        return train_x, train_y\n",
    "    \n",
    "    def get_valid_data(self):\n",
    "        \n",
    "        feature_data = self.norm_data[self.train_num : self.valid_num]  \n",
    "        # interval [s:v]  \n",
    "        \n",
    "        # interval [s+d:v+d]  \n",
    "        label_data = self.norm_data[self.config.predict_day + self.train_num : self.config.predict_day + self.valid_num,\n",
    "                                    self.config.label_in_feature_index]    # create label\n",
    "        \n",
    "        \n",
    "        valid_x = [feature_data[i:i+self.config.time_step] for i in range(self.valid_num-self.train_num-self.config.time_step)]\n",
    "        valid_y = [label_data[i:i+self.config.time_step] for i in range(self.valid_num-self.train_num-self.config.time_step)]\n",
    "\n",
    "   \n",
    "        valid_x, valid_y = np.array(valid_x), np.array(valid_y)\n",
    "\n",
    "        return valid_x, valid_y\n",
    "\n",
    "\n",
    "    def get_test_data(self):\n",
    "        \n",
    "        feature_data = self.norm_data[self.valid_num :]  \n",
    "        # feature interval[v:-d]\n",
    "        \n",
    "        test_x = [feature_data[i:i+self.config.time_step] for i in range(self.data_num - self.valid_num - self.config.time_step-1)]\n",
    "\n",
    "        test_x = np.array(test_x)\n",
    "        \n",
    "        return test_x\n",
    "    \n",
    "    \n",
    "    def return_label(self, dataset):\n",
    "        \n",
    "        if dataset ==\"train\":\n",
    "            label_data = self.data[self.config.time_step :self.train_num ,\n",
    "                                            self.config.label_in_feature_index]\n",
    "        elif dataset == \"valid\":\n",
    "            label_data = self.data[self.train_num+self.config.time_step :self.valid_num ,\n",
    "                                            self.config.label_in_feature_index]\n",
    "        else:\n",
    "            label_data = self.data[self.valid_num+self.config.time_step :-self.config.predict_day ,\n",
    "                                            self.config.label_in_feature_index]\n",
    "            \n",
    "            \n",
    "        return label_data\n",
    "            \n",
    "        \n",
    "        "
   ]
  },
  {
   "cell_type": "code",
   "execution_count": 82,
   "metadata": {},
   "outputs": [],
   "source": [
    "config = Config()\n",
    "data_gainer = Data(config)\n",
    "train_x, train_y = data_gainer.get_train_data()\n",
    "valid_x, valid_y = data_gainer.get_valid_data()\n",
    "test_x= data_gainer.get_test_data()\n",
    "train_label = data_gainer.return_label(\"train\")\n",
    "valid_label = data_gainer.return_label(\"valid\")\n",
    "test_label = data_gainer.return_label(\"test\")\n",
    "\n",
    "# train_y, valid_y, test_y = train_y.reshape(), valid_y, test_y "
   ]
  },
  {
   "cell_type": "code",
   "execution_count": 83,
   "metadata": {},
   "outputs": [
    {
     "name": "stdout",
     "output_type": "stream",
     "text": [
      "(4256, 20, 7)\n",
      "(4256, 20, 2)\n",
      "(896, 20, 7)\n",
      "(896, 20, 2)\n",
      "(896, 20, 7)\n",
      "4256\n",
      "896\n",
      "896\n"
     ]
    }
   ],
   "source": [
    "print(train_x.shape)\n",
    "print(train_y.shape)\n",
    "print(valid_x.shape)\n",
    "print(valid_y.shape)\n",
    "print(test_x.shape)\n",
    "print(len(train_label))\n",
    "print(len(valid_label))\n",
    "print(len(test_label))\n",
    "# print(test_y.shape)"
   ]
  },
  {
   "cell_type": "markdown",
   "metadata": {},
   "source": [
    "## 2. Network and Training Preview"
   ]
  },
  {
   "cell_type": "markdown",
   "metadata": {},
   "source": [
    "Current net is a stacked LSTM, we are going to modify it later on "
   ]
  },
  {
   "cell_type": "code",
   "execution_count": 84,
   "metadata": {},
   "outputs": [],
   "source": [
    "# class Net(Module):\n",
    "#     def __init__(self, config):\n",
    "#         super(Net, self).__init__()\n",
    "#         self.lstm = nn.LSTM(input_size=config.input_size, hidden_size=config.hidden_size,\n",
    "#                             num_layers=config.lstm_layers, batch_first=True,\n",
    "#                             dropout=config.dropout_rate)\n",
    "#         self.linear = nn.Linear(in_features=config.hidden_size, out_features=config.output_size)\n",
    "\n",
    "\n",
    "#     def forward(self, x, hidden=None):\n",
    "#         lstm_out, hidden = self.lstm(x, hidden)\n",
    "#         y = self.linear(lstm_out)\n",
    "#         return y, hidden\n",
    "\n"
   ]
  },
  {
   "cell_type": "code",
   "execution_count": 125,
   "metadata": {},
   "outputs": [],
   "source": [
    "class Net(Module):\n",
    "    def __init__(self, config):\n",
    "        super(Net, self).__init__()\n",
    "        self.lstm = nn.LSTM(input_size=config.input_size, hidden_size=config.hidden_size,\n",
    "                            num_layers=config.lstm_layers, batch_first=True,\n",
    "                            dropout=config.dropout_rate)\n",
    "        self.attention = nlp.nn.Attention(config.hidden_size)\n",
    "        self.attention_linear = nn.Linear(in_features=config.hidden_size, out_features=config.hidden_size)\n",
    "        self.linear = nn.Linear(in_features=config.hidden_size, out_features=config.output_size)\n",
    "        self.hidden_size = config.hidden_size  # 128\n",
    "        self.time_step = config.time_step      # 20\n",
    "        \n",
    "    def forward(self, x, hidden=None):\n",
    "        query = self.attention_linear(torch.randn(x.shape[0], self.time_step, self.hidden_size))\n",
    "        lstm_out, hidden = self.lstm(x, hidden)\n",
    "        attention_out, _ = self.attention(query, lstm_out)\n",
    "        y = self.linear(attention_out)\n",
    "        return y, hidden"
   ]
  },
  {
   "cell_type": "code",
   "execution_count": 126,
   "metadata": {},
   "outputs": [],
   "source": [
    "def train(x_train, y_train, config):\n",
    "    print(\"Start training ...\")\n",
    "    device = torch.device(\"cuda:0\" if config.use_cuda and torch.cuda.is_available() else \"cpu\")\n",
    "    net = Net(config).to(device)\n",
    "\n",
    "    train_x, train_y = torch.from_numpy(x_train).float(), torch.from_numpy(y_train).float()\n",
    "    train_loader = DataLoader(TensorDataset(train_x, train_y), batch_size = config.batch_size)\n",
    "\n",
    "    # totally s iterations\n",
    "#     s = train_x.shape[0]\n",
    "    optimizer = optim.Adam(net.parameters(), lr=config.learning_rate)\n",
    "    criterion = nn.MSELoss()\n",
    "    losses = []  # store losses of each iteration\n",
    "    epc_mean = []  # store mean losses of each epoch\n",
    "    for epoch in range(config.epoch):\n",
    "        epoch_loss = []\n",
    "        hidden = None\n",
    "        for i, data in enumerate(train_loader):\n",
    "            train_x, labels = data[0].to(device), data[1].to(device)\n",
    "            optimizer.zero_grad()\n",
    "            y_pred, hidden = net.forward(train_x, hidden)\n",
    "            \n",
    "#             h_t, c_t = hidden\n",
    "#             h_t.detach_(), c_t.detach_()\n",
    "#             hidden = (h_t, c_t)\n",
    "            hidden = None\n",
    "            loss = criterion(y_pred, labels)\n",
    "            loss.backward()\n",
    "            optimizer.step()\n",
    "            losses.append(loss.item())\n",
    "            epoch_loss.append(loss.item())\n",
    "        cur_loss = np.mean(np.array(epoch_loss))\n",
    "        print(\"Epoch {}/{}\".format(epoch+1, config.epoch), \" Train Loss :{}\".format(cur_loss))\n",
    "        epc_mean.append(cur_loss)\n",
    "        \n",
    "    \n",
    "    torch.save(net.state_dict(), config.model_save_path + config.model_name)\n",
    "    print('Finished Training Trainset')\n",
    "    print('Net parameters are saved at {}'.format(config.model_save_path + config.model_name))\n",
    "    return losses, epc_mean\n",
    "\n",
    "\n",
    "def loss_plot(losses):\n",
    "    plt.plot(losses) \n",
    "    plt.xlabel('epoch') \n",
    "    plt.ylabel('training loss') \n",
    "    plt.title('Training Loss history') \n",
    "    plt.show()\n"
   ]
  },
  {
   "cell_type": "code",
   "execution_count": 127,
   "metadata": {
    "scrolled": true
   },
   "outputs": [
    {
     "name": "stdout",
     "output_type": "stream",
     "text": [
      "Start training ...\n"
     ]
    },
    {
     "ename": "NameError",
     "evalue": "name 'nlp' is not defined",
     "output_type": "error",
     "traceback": [
      "\u001b[0;31m---------------------------------------------------------------------------\u001b[0m",
      "\u001b[0;31mNameError\u001b[0m                                 Traceback (most recent call last)",
      "\u001b[0;32m<ipython-input-127-08a1415d5579>\u001b[0m in \u001b[0;36m<module>\u001b[0;34m\u001b[0m\n\u001b[0;32m----> 1\u001b[0;31m \u001b[0m_\u001b[0m\u001b[0;34m,\u001b[0m \u001b[0mloss_mean\u001b[0m\u001b[0;34m=\u001b[0m \u001b[0mtrain\u001b[0m\u001b[0;34m(\u001b[0m\u001b[0mtrain_x\u001b[0m\u001b[0;34m,\u001b[0m \u001b[0mtrain_y\u001b[0m\u001b[0;34m,\u001b[0m \u001b[0mconfig\u001b[0m\u001b[0;34m)\u001b[0m\u001b[0;34m\u001b[0m\u001b[0;34m\u001b[0m\u001b[0m\n\u001b[0m",
      "\u001b[0;32m<ipython-input-126-01997bab424e>\u001b[0m in \u001b[0;36mtrain\u001b[0;34m(x_train, y_train, config)\u001b[0m\n\u001b[1;32m      2\u001b[0m     \u001b[0mprint\u001b[0m\u001b[0;34m(\u001b[0m\u001b[0;34m\"Start training ...\"\u001b[0m\u001b[0;34m)\u001b[0m\u001b[0;34m\u001b[0m\u001b[0;34m\u001b[0m\u001b[0m\n\u001b[1;32m      3\u001b[0m     \u001b[0mdevice\u001b[0m \u001b[0;34m=\u001b[0m \u001b[0mtorch\u001b[0m\u001b[0;34m.\u001b[0m\u001b[0mdevice\u001b[0m\u001b[0;34m(\u001b[0m\u001b[0;34m\"cuda:0\"\u001b[0m \u001b[0;32mif\u001b[0m \u001b[0mconfig\u001b[0m\u001b[0;34m.\u001b[0m\u001b[0muse_cuda\u001b[0m \u001b[0;32mand\u001b[0m \u001b[0mtorch\u001b[0m\u001b[0;34m.\u001b[0m\u001b[0mcuda\u001b[0m\u001b[0;34m.\u001b[0m\u001b[0mis_available\u001b[0m\u001b[0;34m(\u001b[0m\u001b[0;34m)\u001b[0m \u001b[0;32melse\u001b[0m \u001b[0;34m\"cpu\"\u001b[0m\u001b[0;34m)\u001b[0m\u001b[0;34m\u001b[0m\u001b[0;34m\u001b[0m\u001b[0m\n\u001b[0;32m----> 4\u001b[0;31m     \u001b[0mnet\u001b[0m \u001b[0;34m=\u001b[0m \u001b[0mNet\u001b[0m\u001b[0;34m(\u001b[0m\u001b[0mconfig\u001b[0m\u001b[0;34m)\u001b[0m\u001b[0;34m.\u001b[0m\u001b[0mto\u001b[0m\u001b[0;34m(\u001b[0m\u001b[0mdevice\u001b[0m\u001b[0;34m)\u001b[0m\u001b[0;34m\u001b[0m\u001b[0;34m\u001b[0m\u001b[0m\n\u001b[0m\u001b[1;32m      5\u001b[0m \u001b[0;34m\u001b[0m\u001b[0m\n\u001b[1;32m      6\u001b[0m     \u001b[0mtrain_x\u001b[0m\u001b[0;34m,\u001b[0m \u001b[0mtrain_y\u001b[0m \u001b[0;34m=\u001b[0m \u001b[0mtorch\u001b[0m\u001b[0;34m.\u001b[0m\u001b[0mfrom_numpy\u001b[0m\u001b[0;34m(\u001b[0m\u001b[0mx_train\u001b[0m\u001b[0;34m)\u001b[0m\u001b[0;34m.\u001b[0m\u001b[0mfloat\u001b[0m\u001b[0;34m(\u001b[0m\u001b[0;34m)\u001b[0m\u001b[0;34m,\u001b[0m \u001b[0mtorch\u001b[0m\u001b[0;34m.\u001b[0m\u001b[0mfrom_numpy\u001b[0m\u001b[0;34m(\u001b[0m\u001b[0my_train\u001b[0m\u001b[0;34m)\u001b[0m\u001b[0;34m.\u001b[0m\u001b[0mfloat\u001b[0m\u001b[0;34m(\u001b[0m\u001b[0;34m)\u001b[0m\u001b[0;34m\u001b[0m\u001b[0;34m\u001b[0m\u001b[0m\n",
      "\u001b[0;32m<ipython-input-125-50eeaa911711>\u001b[0m in \u001b[0;36m__init__\u001b[0;34m(self, config)\u001b[0m\n\u001b[1;32m      5\u001b[0m                             \u001b[0mnum_layers\u001b[0m\u001b[0;34m=\u001b[0m\u001b[0mconfig\u001b[0m\u001b[0;34m.\u001b[0m\u001b[0mlstm_layers\u001b[0m\u001b[0;34m,\u001b[0m \u001b[0mbatch_first\u001b[0m\u001b[0;34m=\u001b[0m\u001b[0;32mTrue\u001b[0m\u001b[0;34m,\u001b[0m\u001b[0;34m\u001b[0m\u001b[0;34m\u001b[0m\u001b[0m\n\u001b[1;32m      6\u001b[0m                             dropout=config.dropout_rate)\n\u001b[0;32m----> 7\u001b[0;31m         \u001b[0mself\u001b[0m\u001b[0;34m.\u001b[0m\u001b[0mattention\u001b[0m \u001b[0;34m=\u001b[0m \u001b[0mnlp\u001b[0m\u001b[0;34m.\u001b[0m\u001b[0mnn\u001b[0m\u001b[0;34m.\u001b[0m\u001b[0mAttention\u001b[0m\u001b[0;34m(\u001b[0m\u001b[0mconfig\u001b[0m\u001b[0;34m.\u001b[0m\u001b[0mhidden_size\u001b[0m\u001b[0;34m)\u001b[0m\u001b[0;34m\u001b[0m\u001b[0;34m\u001b[0m\u001b[0m\n\u001b[0m\u001b[1;32m      8\u001b[0m         \u001b[0mself\u001b[0m\u001b[0;34m.\u001b[0m\u001b[0mattention_linear\u001b[0m \u001b[0;34m=\u001b[0m \u001b[0mnn\u001b[0m\u001b[0;34m.\u001b[0m\u001b[0mLinear\u001b[0m\u001b[0;34m(\u001b[0m\u001b[0min_features\u001b[0m\u001b[0;34m=\u001b[0m\u001b[0mconfig\u001b[0m\u001b[0;34m.\u001b[0m\u001b[0mhidden_size\u001b[0m\u001b[0;34m,\u001b[0m \u001b[0mout_features\u001b[0m\u001b[0;34m=\u001b[0m\u001b[0mconfig\u001b[0m\u001b[0;34m.\u001b[0m\u001b[0mhidden_size\u001b[0m\u001b[0;34m)\u001b[0m\u001b[0;34m\u001b[0m\u001b[0;34m\u001b[0m\u001b[0m\n\u001b[1;32m      9\u001b[0m         \u001b[0mself\u001b[0m\u001b[0;34m.\u001b[0m\u001b[0mlinear\u001b[0m \u001b[0;34m=\u001b[0m \u001b[0mnn\u001b[0m\u001b[0;34m.\u001b[0m\u001b[0mLinear\u001b[0m\u001b[0;34m(\u001b[0m\u001b[0min_features\u001b[0m\u001b[0;34m=\u001b[0m\u001b[0mconfig\u001b[0m\u001b[0;34m.\u001b[0m\u001b[0mhidden_size\u001b[0m\u001b[0;34m,\u001b[0m \u001b[0mout_features\u001b[0m\u001b[0;34m=\u001b[0m\u001b[0mconfig\u001b[0m\u001b[0;34m.\u001b[0m\u001b[0moutput_size\u001b[0m\u001b[0;34m)\u001b[0m\u001b[0;34m\u001b[0m\u001b[0;34m\u001b[0m\u001b[0m\n",
      "\u001b[0;31mNameError\u001b[0m: name 'nlp' is not defined"
     ]
    }
   ],
   "source": [
    "_, loss_mean= train(train_x, train_y, config)"
   ]
  },
  {
   "cell_type": "code",
   "execution_count": 87,
   "metadata": {
    "scrolled": true
   },
   "outputs": [
    {
     "data": {
      "image/png": "[encoded data removed]",
      "text/plain": [
       "<Figure size 432x288 with 1 Axes>"
      ]
     },
     "metadata": {
      "needs_background": "light"
     },
     "output_type": "display_data"
    }
   ],
   "source": [
    "loss_plot(loss_mean)"
   ]
  },
  {
   "cell_type": "code",
   "execution_count": 122,
   "metadata": {},
   "outputs": [],
   "source": [
    "def predict(x_test, config):\n",
    "    device = torch.device(\"cuda:0\" if config.use_cuda and torch.cuda.is_available() else \"cpu\")\n",
    "    y_pred = torch.empty((0, len(config.label_columns))).to(device)\n",
    "    y_hat = []\n",
    "    test_X = torch.from_numpy(x_test).float()\n",
    "    test_set = TensorDataset(test_X)\n",
    "    test_loader = DataLoader(test_set, batch_size=1)\n",
    "\n",
    "    \n",
    "    net = Net(config).to(device)\n",
    "    net.load_state_dict(torch.load(config.model_save_path + config.model_name))\n",
    "    net.eval()\n",
    "    hidden = None\n",
    "    for data in test_loader:\n",
    "        tmp = []\n",
    "        x = data[0].to(device)\n",
    "        y, hidden = net.forward(x, hidden)\n",
    "        hidden = None\n",
    "#         y_pred_0 = torch.cat((y_pred, y[0]), 0)\n",
    "        tmp.append(y[0][-1][0].item())\n",
    "        tmp.append(y[0][-1][1].item())\n",
    "        y_hat.append(tmp)\n",
    "    return np.array(y_hat)\n",
    "\n",
    "\n",
    "def up_down_accuracy(y_true, y_pred):\n",
    "    y_true = np.array(y_true)\n",
    "    y_pred = np.array(y_pred)\n",
    "    y_var_test=y_true[1:]-y_true[:len(y_true)-1]\n",
    "    y_var_predict=y_pred[1:]-y_pred[:len(y_pred)-1]\n",
    "    txt=np.zeros(len(y_var_test))\n",
    "    for i in range(len(y_var_test-1)):#计算数量\n",
    "        txt[i]=np.sign(y_var_test[i])==np.sign(y_var_predict[i])\n",
    "    result=sum(txt)/len(txt)\n",
    "    return result\n",
    "\n",
    "\n",
    "def evaluate(y_pred, y_test, data_gainer):\n",
    "    labels_open = []\n",
    "    labels_close = []\n",
    "    for i in range(y_test.shape[0]):\n",
    "        labels_open.append(y_test[i][0])\n",
    "    for i in range(y_test.shape[0]):\n",
    "        labels_close.append(y_test[i][1])\n",
    "    \n",
    "    \n",
    "    \n",
    "    print(\"###############################################################\")\n",
    "    print(\"Evaluation of open price predction on valid set:\")\n",
    "    \n",
    "    y_pred_0 = y_pred[:,0] * data_gainer.std[0] + data_gainer.mean[0]\n",
    "    \n",
    "    \n",
    "    # Error comptuer of open price prediction\n",
    "    #Root Mean Square Error\n",
    "    RMSE = np.sqrt(np.sum((np.array(labels_open) - y_pred_0) ** 2) / len(labels_open)) \n",
    "    # Mean Absolute Percentage Error\n",
    "    MAPE = np.sum((np.array(labels_open) - y_pred_0)/np.array(labels_open))/len(labels_open)*100 \n",
    "    # Mean Bias Error\n",
    "    MBE = np.sum((np.array(labels_open) - y_pred_0)) / len(labels_open)\n",
    "    print(\"RMSE on validation set is {}\".format(RMSE))\n",
    "    print(\"MAPE on validation set is {}\".format(MAPE))\n",
    "    print(\"MBE on validation set is {}\".format(MBE))    \n",
    "    up_down_accu = up_down_accuracy(labels_open, y_pred_0)\n",
    "    print(\"Up and down accuracy on validation set is {}%\".format(round(up_down_accu*100),2))\n",
    "\n",
    "\n",
    "    plt.xlabel('Days') \n",
    "    plt.ylabel('Price') \n",
    "    plt.title('Valid Evaluation of Open prices for 100 days') \n",
    "    plt.plot(y_pred_0.tolist()[:100], 'r', label = \"predict\")\n",
    "    plt.plot(labels_open[:100], 'b', label = \"real\")\n",
    "    plt.legend(loc=\"upper right\")\n",
    "    plt.show()\n",
    "    \n",
    "    \n",
    "    # Error comptuer of close price prediction\n",
    "\n",
    "    print(\"###############################################################\")\n",
    "    print(\"Evaluation of close price predction on valid set:\")\n",
    "    y_pred_1 = y_pred[:,1] * data_gainer.std[1] + data_gainer.mean[1]\n",
    "    \n",
    "    \n",
    "    # Error comptuer of open price prediction\n",
    "    #Root Mean Square Error\n",
    "    RMSE = np.sqrt(np.sum((np.array(labels_close) - y_pred_1) ** 2) / len(labels_close)) \n",
    "    # Mean Absolute Percentage Error\n",
    "    MAPE = np.sum((np.array(labels_close) - y_pred_1)/np.array(labels_close))/len(labels_close)*100 \n",
    "    # Mean Bias Error\n",
    "    MBE = np.sum((np.array(labels_close) - y_pred_1)) / len(labels_close)\n",
    "    print(\"RMSE on validation set is {}\".format(RMSE))\n",
    "    print(\"MAPE on validation set is {}\".format(MAPE))\n",
    "    print(\"MBE on validation set is {}\".format(MBE))    \n",
    "    up_down_accu = up_down_accuracy(labels_close, y_pred_1)\n",
    "    print(\"Up and down accuracy on validation set is {}%\".format(round(up_down_accu*100),2))\n",
    "\n",
    "\n",
    "    plt.xlabel('Days') \n",
    "    plt.ylabel('Price') \n",
    "    plt.title('Valid Evaluation of Close prices for 100 days') \n",
    "    plt.plot(y_pred_1.tolist()[:100], 'r', label = \"predict close\")\n",
    "    \n",
    "    \n",
    "    plt.plot(labels_close[:100], 'b', label = \"real close\")\n",
    "    plt.legend(loc=\"upper right\")\n",
    "    plt.show()\n"
   ]
  },
  {
   "cell_type": "code",
   "execution_count": 117,
   "metadata": {},
   "outputs": [],
   "source": [
    "y_pred = predict(valid_x, config)"
   ]
  },
  {
   "cell_type": "code",
   "execution_count": 118,
   "metadata": {},
   "outputs": [
    {
     "name": "stdout",
     "output_type": "stream",
     "text": [
      "(896, 2)\n"
     ]
    }
   ],
   "source": [
    "print(y_pred.shape)"
   ]
  },
  {
   "cell_type": "code",
   "execution_count": 123,
   "metadata": {},
   "outputs": [
    {
     "name": "stdout",
     "output_type": "stream",
     "text": [
      "###############################################################\n",
      "Evaluation of open price predction on valid set:\n",
      "RMSE on validation set is 85.80959671865807\n",
      "MAPE on validation set is -1.5735598170978033\n",
      "MBE on validation set is -45.27030886237695\n",
      "Up and down accuracy on validation set is 73.0%\n"
     ]
    },
    {
     "data": {
      "image/png": "[encoded data removed]",
      "text/plain": [
       "<Figure size 432x288 with 1 Axes>"
      ]
     },
     "metadata": {
      "needs_background": "light"
     },
     "output_type": "display_data"
    },
    {
     "name": "stdout",
     "output_type": "stream",
     "text": [
      "###############################################################\n",
      "Evaluation of close price predction on valid set:\n",
      "RMSE on validation set is 89.30673130091382\n",
      "MAPE on validation set is -1.8609146672227108\n",
      "MBE on validation set is -52.59067875556925\n",
      "Up and down accuracy on validation set is 50.0%\n"
     ]
    },
    {
     "data": {
      "image/png": "[encoded data removed]",
      "text/plain": [
       "<Figure size 432x288 with 1 Axes>"
      ]
     },
     "metadata": {
      "needs_background": "light"
     },
     "output_type": "display_data"
    }
   ],
   "source": [
    "evaluate(y_pred, valid_label, data_gainer)"
   ]
  },
  {
   "cell_type": "markdown",
   "metadata": {},
   "source": [
    "## 3. Parameter Tuning"
   ]
  },
  {
   "cell_type": "markdown",
   "metadata": {},
   "source": [
    "Parameter tuning to increase performaces on the valid set"
   ]
  },
  {
   "cell_type": "code",
   "execution_count": null,
   "metadata": {},
   "outputs": [],
   "source": []
  }
 ],
 "metadata": {
  "kernelspec": {
   "display_name": "Python 3",
   "language": "python",
   "name": "python3"
  },
  "language_info": {
   "codemirror_mode": {
    "name": "ipython",
    "version": 3
   },
   "file_extension": ".py",
   "mimetype": "text/x-python",
   "name": "python",
   "nbconvert_exporter": "python",
   "pygments_lexer": "ipython3",
   "version": "3.7.7"
  }
 },
 "nbformat": 4,
 "nbformat_minor": 4
}
